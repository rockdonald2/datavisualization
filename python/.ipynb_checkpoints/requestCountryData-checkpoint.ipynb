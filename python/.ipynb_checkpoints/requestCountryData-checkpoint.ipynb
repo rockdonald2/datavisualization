{
 "cells": [
  {
   "cell_type": "code",
   "execution_count": 1,
   "metadata": {},
   "outputs": [],
   "source": [
    "import requests\n",
    "\n",
    "REST_EU_ROOT_URL = 'http://restcountries.eu/rest/v1'\n",
    "    \n",
    "def REST_country_request(field='all', name=None, params=None):\n",
    "    headers = { 'User-Agent' : 'Mozilla/5.0' }\n",
    "    # legtöbbször jó ötlet az, ha meghatározzunk egy valid 'User-Agent'-et a request fejlécében,\n",
    "    # annak érdekében tesszük ezt, hogy elkerüljek azt az esetet, amikor nem lehet az adatot elérni meghatározott fejléc nélkül\n",
    "    # a fejlécek nem mások, mint kiegészítő információk a HTTP csatlakozás során\n",
    "    # ebben az esetben az 'User-Agent' lényegében információt szolgáltat az API-nak arról, hogy milyen rendszer kéri le az információt,\n",
    "    # azonosítva ez által\n",
    "    \t\n",
    "    if not params:\n",
    "    \tparams = {}\n",
    "\n",
    "    if field == 'all':\n",
    "            return requests.get(REST_EU_ROOT_URL + '/all')\n",
    "        \n",
    "    url = '{}/{}/{}'.format(REST_EU_ROOT_URL, field, name)\n",
    "    print('Requesting URL: {}'.format(url))\n",
    "    response = requests.get(url, params=params, headers=headers)\n",
    "    # egy REST countries URL így néz ki: https://restcountries.eu/rest/v1/<field>/<name>?<params>\n",
    "\n",
    "    if not response.status_code == 200:\n",
    "        raise Exception('Request failed with status code {}'.format(response.status_code))\n",
    "    # mielőtt visszatérítenénk a választ, megnézzük érvényes-e\n",
    "\n",
    "    return response"
   ]
  },
  {
   "cell_type": "code",
   "execution_count": 2,
   "metadata": {},
   "outputs": [],
   "source": [
    "res = REST_country_request()"
   ]
  },
  {
   "cell_type": "code",
   "execution_count": 9,
   "metadata": {},
   "outputs": [
    {
     "data": {
      "text/plain": [
       "<pymongo.results.InsertManyResult at 0x19d80b37880>"
      ]
     },
     "execution_count": 9,
     "metadata": {},
     "output_type": "execute_result"
    }
   ],
   "source": [
    "from pymongo import MongoClient\n",
    "\n",
    "# alapértelmezett beállításokkal, csupán az adatbázisnév tetszőleges\n",
    "def get_mongo_database(\n",
    "    db_name, host=\"localhost\", port=27017, username=None, password=None\n",
    "):\n",
    "    \"\"\" Elérjük a db_name-mel hivatkozott adatbázist MongoDB-ről, hitelesítő adatokkal vagy azok nélkül \"\"\"\n",
    "\n",
    "    if username and password:\n",
    "        mongo_uri = \"mongodb://{}:{}@{}/{}\".format(username, password, host, db_name)\n",
    "        # URI = uniform resource identifier\n",
    "        conn = MongoClient(mongo_uri)\n",
    "    else:\n",
    "        conn = MongoClient(host, port)\n",
    "\n",
    "    return conn[\n",
    "        db_name\n",
    "    ]  # itt már a második féle jelölést használjuk az adatbázis eléréséhez\n",
    "\n",
    "# elérjük az adatbázist\n",
    "db = get_mongo_database('nobel_prize')\n",
    "\n",
    "# töröljük a létező collectiont\n",
    "col = db['country_data']\n",
    "col.drop()\n",
    "\n",
    "# beillesztjük az újat\n",
    "col = db['country_data']\n",
    "col.insert_many(res.json())"
   ]
  },
  {
   "cell_type": "code",
   "execution_count": null,
   "metadata": {},
   "outputs": [],
   "source": []
  }
 ],
 "metadata": {
  "kernelspec": {
   "display_name": "Python 3.8.3 64-bit ('pyjsviz': conda)",
   "language": "python",
   "name": "python38364bitpyjsvizconda745acef9f02b447482f77d90c121d992"
  },
  "language_info": {
   "codemirror_mode": {
    "name": "ipython",
    "version": 3
   },
   "file_extension": ".py",
   "mimetype": "text/x-python",
   "name": "python",
   "nbconvert_exporter": "python",
   "pygments_lexer": "ipython3",
   "version": "3.8.3"
  }
 },
 "nbformat": 4,
 "nbformat_minor": 4
}
