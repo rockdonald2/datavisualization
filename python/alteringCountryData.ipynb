{
 "cells": [
  {
   "cell_type": "code",
   "execution_count": 2,
   "metadata": {},
   "outputs": [],
   "source": [
    "from pymongo import MongoClient\n",
    "import pandas as pd\n",
    "import numpy as np"
   ]
  },
  {
   "cell_type": "code",
   "execution_count": 16,
   "metadata": {},
   "outputs": [],
   "source": [
    "# alapértelmezett beállításokkal, csupán az adatbázisnév tetszőleges\n",
    "def get_mongo_database(\n",
    "    db_name, host=\"localhost\", port=27017, username=None, password=None\n",
    "):\n",
    "    \"\"\" Elérjük a db_name-mel hivatkozott adatbázist MongoDB-ről, hitelesítő adatokkal vagy azok nélkül \"\"\"\n",
    "\n",
    "    if username and password:\n",
    "        mongo_uri = \"mongodb://{}:{}@{}/{}\".format(username, password, host, db_name)\n",
    "        # URI = uniform resource identifier\n",
    "        conn = MongoClient(mongo_uri)\n",
    "    else:\n",
    "        conn = MongoClient(host, port)\n",
    "\n",
    "    return conn[\n",
    "        db_name\n",
    "    ]  # itt már a második féle jelölést használjuk az adatbázis eléréséhez\n",
    "\n",
    "\n",
    "def mongo_to_dataframe(\n",
    "    db_name,\n",
    "    collection,\n",
    "    query={},\n",
    "    host=\"localhost\",\n",
    "    port=27017,\n",
    "    username=None,\n",
    "    password=None,\n",
    "    no_id=True,\n",
    "):\n",
    "    \"\"\" Létrehoz egy DataFrame-t egy MongoDB collection-ból \"\"\"\n",
    "\n",
    "    db = get_mongo_database(db_name, host, port, username, password)\n",
    "\n",
    "    # megkeresi a collection-ból a lekérdezés szerinti elemeket\n",
    "    cursor = db[collection].find(query)\n",
    "\n",
    "    df = pd.DataFrame(list(cursor))\n",
    "\n",
    "    # amennyiben azt szeretnénk, hogy törölje ki a MongoDB által hozzáadott id-t\n",
    "    if no_id:\n",
    "        del df[\"_id\"]\n",
    "\n",
    "    return df\n",
    "\n",
    "\n",
    "# alapvetően, a removeexisting kitörli, ha már létezik,\n",
    "# a skipifexists, átugorja, ha már létezik,\n",
    "# de a forceupdate esetén vagy hozzáfűzi, vagy törli és újratölti a removeexisting függvényében\n",
    "def dataframe_to_mongo(\n",
    "    df,\n",
    "    db_name,\n",
    "    collection,\n",
    "    host=\"localhost\",\n",
    "    port=27017,\n",
    "    username=None,\n",
    "    password=None,\n",
    "    removeexisting=True,\n",
    "    skipifexists=False,\n",
    "    forceupdate=False,\n",
    "):\n",
    "    \"\"\" Lement egy DataFrame-t egy MongoDB collection-be \"\"\"\n",
    "    db = get_mongo_database(db_name, host, port, username, password)\n",
    "\n",
    "    if (skipifexists and not forceupdate) and (collection in db.list_collection_names()):\n",
    "        return\n",
    "\n",
    "    if (collection in db.list_collection_names()) and removeexisting:\n",
    "        db[collection].drop()\n",
    "\n",
    "    records = df.to_dict(orient=\"records\")\n",
    "\n",
    "    db[collection].insert_many(records)"
   ]
  },
  {
   "cell_type": "code",
   "execution_count": 4,
   "metadata": {},
   "outputs": [],
   "source": [
    "def dataframe_mongo_compatible(df):\n",
    "    # a MongoDB-n való tárolás miatt vissza kell alakítani object-é az oszlopot, és NaN-ra állítani a NaT-okat,\n",
    "    # mert másképp nem engedi feltölteni, ValueError miatt\n",
    "    df.date_of_death = df.date_of_death.astype(object).where(df.date_of_death.notnull(), np.nan)\n",
    "\n",
    "    return df\n",
    "\n",
    "def dataframe_reverse_compatible(df):\n",
    "    # visszalakítjuk datetime objektummá az oszlopot\n",
    "    df.date_of_death = pd.to_datetime(df.date_of_death)\n",
    "\n",
    "    return df"
   ]
  },
  {
   "cell_type": "code",
   "execution_count": 19,
   "metadata": {},
   "outputs": [
    {
     "name": "stdout",
     "output_type": "stream",
     "text": [
      "None\n"
     ]
    }
   ],
   "source": [
    "df = mongo_to_dataframe('nobel_prize', 'country_data')\n",
    "df.set_index('name', inplace=True)\n",
    "df.to_json('data.json', orient='index')"
   ]
  },
  {
   "cell_type": "code",
   "execution_count": null,
   "metadata": {},
   "outputs": [],
   "source": []
  }
 ],
 "metadata": {
  "kernelspec": {
   "display_name": "Python 3.8.3 64-bit ('pyjsviz': conda)",
   "language": "python",
   "name": "python38364bitpyjsvizconda745acef9f02b447482f77d90c121d992"
  },
  "language_info": {
   "codemirror_mode": {
    "name": "ipython",
    "version": 3
   },
   "file_extension": ".py",
   "mimetype": "text/x-python",
   "name": "python",
   "nbconvert_exporter": "python",
   "pygments_lexer": "ipython3",
   "version": "3.8.3"
  }
 },
 "nbformat": 4,
 "nbformat_minor": 4
}
