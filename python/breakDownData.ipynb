{
 "cells": [
  {
   "cell_type": "code",
   "execution_count": 8,
   "metadata": {},
   "outputs": [],
   "source": [
    "import pandas as pd\n",
    "\n",
    "df_winners = pd.read_json('../data/winners_cleaned.json')\n",
    "\n",
    "# a name jelen esetben az ország lesz, a group pedig a győztesek\n",
    "# minden ország egy külön állomány lesz, amely tartalmazni fogja a győzteseket\n",
    "for name, group in df_winners.groupby('country'):\n",
    "    group.to_json('../data/winners_by_country/{}.json'.format(name), orient='records')\n",
    "# nem hozza létre a mappát, ha nincs még létrehozva error-t dob"
   ]
  },
  {
   "cell_type": "code",
   "execution_count": null,
   "metadata": {},
   "outputs": [],
   "source": []
  }
 ],
 "metadata": {
  "kernelspec": {
   "display_name": "Python 3.8.3 64-bit ('pyjsviz': conda)",
   "language": "python",
   "name": "python38364bitpyjsvizconda745acef9f02b447482f77d90c121d992"
  },
  "language_info": {
   "codemirror_mode": {
    "name": "ipython",
    "version": 3
   },
   "file_extension": ".py",
   "mimetype": "text/x-python",
   "name": "python",
   "nbconvert_exporter": "python",
   "pygments_lexer": "ipython3",
   "version": "3.8.3"
  }
 },
 "nbformat": 4,
 "nbformat_minor": 4
}
